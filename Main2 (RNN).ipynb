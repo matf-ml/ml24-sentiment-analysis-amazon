{
 "cells": [
  {
   "cell_type": "code",
   "execution_count": 1,
   "metadata": {},
   "outputs": [
    {
     "name": "stderr",
     "output_type": "stream",
     "text": [
      "Using TensorFlow backend.\n"
     ]
    }
   ],
   "source": [
    "import numpy as np\n",
    "import pandas as pd\n",
    "import matplotlib.pyplot as plt\n",
    "\n",
    "from sklearn import model_selection\n",
    "from sklearn.metrics import roc_auc_score\n",
    "from sklearn.metrics import accuracy_score\n",
    "from sklearn.metrics import confusion_matrix\n",
    "\n",
    "import keras.backend as K\n",
    "from keras.models import Sequential\n",
    "from keras.layers import Embedding, Flatten, Dense, SimpleRNN, LSTM\n",
    "from keras.initializers import Constant\n",
    "from keras.preprocessing.text import Tokenizer\n",
    "from keras.preprocessing.sequence import pad_sequences\n",
    "\n",
    "from gensim.models import word2vec\n",
    "import tensorflow as tf\n",
    "\n",
    "from nltk.corpus import stopwords\n",
    "from nltk.stem import WordNetLemmatizer\n",
    "from nltk.tokenize import word_tokenize\n",
    "\n",
    "import time\n",
    "import os"
   ]
  },
  {
   "cell_type": "code",
   "execution_count": 2,
   "metadata": {},
   "outputs": [
    {
     "name": "stderr",
     "output_type": "stream",
     "text": [
      "C:\\Users\\vladimir.lukovic\\AppData\\Roaming\\Python\\Python37\\site-packages\\IPython\\core\\interactiveshell.py:3020: DtypeWarning: Columns (1,10) have mixed types. Specify dtype option on import or set low_memory=False.\n",
      "  interactivity=interactivity, compiler=compiler, result=result)\n"
     ]
    }
   ],
   "source": [
    "data = pd.read_csv('baza/1429_1.csv', parse_dates=True)"
   ]
  },
  {
   "cell_type": "markdown",
   "metadata": {},
   "source": [
    "Pretprocesiranje teksta je isto kao u glavnom main-u .\n",
    "\n",
    "Izdvajamo tekstualne podatke i njihove ocene iz baze, pretprocesiramo tekst..."
   ]
  },
  {
   "cell_type": "code",
   "execution_count": 3,
   "metadata": {},
   "outputs": [
    {
     "name": "stdout",
     "output_type": "stream",
     "text": [
      "Bez NaN vrednosti imamo 34626 instanci\n",
      "\n",
      "Tekstove ocenjene sa 1,2,3 prepoznavacemo kao negativan sentiment\n",
      "Tekstove ocenjene sa 4,5 prepoznavacemo kao pozitivan sentiment\n",
      "\n"
     ]
    }
   ],
   "source": [
    "currently = data[['reviews.text','reviews.rating']]\n",
    "reduced = currently.dropna(how='any') # Brisemo svaki red koji ima bilo gde NaN vrednost\n",
    "print(f'Bez NaN vrednosti imamo {reduced.shape[0]} instanci')\n",
    "\n",
    "reduced = reduced.replace([1,2,3], 0)\n",
    "reduced = reduced.replace([4,5], 1)\n",
    "print('\\nTekstove ocenjene sa 1,2,3 prepoznavacemo kao negativan sentiment')\n",
    "print('Tekstove ocenjene sa 4,5 prepoznavacemo kao pozitivan sentiment\\n')"
   ]
  },
  {
   "cell_type": "code",
   "execution_count": 4,
   "metadata": {},
   "outputs": [
    {
     "name": "stdout",
     "output_type": "stream",
     "text": [
      "This amazon fire 8 inch tablet is the perfect size. I purchased it for my husband so that he has a bigger screen than just his phone. He had gotten me one a few years ago so I knew it would be a good purchase.\n",
      "\n",
      "Slova su smanjena : \n",
      "this amazon fire 8 inch tablet is the perfect size. i purchased it for my husband so that he has a bigger screen than just his phone. he had gotten me one a few years ago so i knew it would be a good purchase.\n",
      "\n",
      "Tokenization of words : \n",
      "['this', 'amazon', 'fire', '8', 'inch', 'tablet', 'is', 'the', 'perfect', 'size', '.', 'i', 'purchased', 'it', 'for', 'my', 'husband', 'so', 'that', 'he', 'has', 'a', 'bigger', 'screen', 'than', 'just', 'his', 'phone', '.', 'he', 'had', 'gotten', 'me', 'one', 'a', 'few', 'years', 'ago', 'so', 'i', 'knew', 'it', 'would', 'be', 'a', 'good', 'purchase', '.']\n",
      "\n",
      "Uklonjeno je sve sem slova : \n",
      "['this', 'amazon', 'fire', 'inch', 'tablet', 'is', 'the', 'perfect', 'size', 'i', 'purchased', 'it', 'for', 'my', 'husband', 'so', 'that', 'he', 'has', 'a', 'bigger', 'screen', 'than', 'just', 'his', 'phone', 'he', 'had', 'gotten', 'me', 'one', 'a', 'few', 'years', 'ago', 'so', 'i', 'knew', 'it', 'would', 'be', 'a', 'good', 'purchase']\n",
      "\n",
      "Reci cu skracene na svoj koren : \n",
      "['this', 'amazon', 'fire', 'inch', 'tablet', 'is', 'the', 'perfect', 'size', 'i', 'purchased', 'it', 'for', 'my', 'husband', 'so', 'that', 'he', 'ha', 'a', 'bigger', 'screen', 'than', 'just', 'his', 'phone', 'he', 'had', 'gotten', 'me', 'one', 'a', 'few', 'year', 'ago', 'so', 'i', 'knew', 'it', 'would', 'be', 'a', 'good', 'purchase']\n",
      "\n",
      "Izbacene su nepotrebne reci : \n",
      "['amazon', 'fire', 'inch', 'tablet', 'perfect', 'size', 'purchased', 'husband', 'ha', 'bigger', 'screen', 'phone', 'gotten', 'one', 'year', 'ago', 'knew', 'would', 'good', 'purchase']\n"
     ]
    }
   ],
   "source": [
    "print(reduced[\"reviews.text\"][5])\n",
    "\n",
    "#smanji sva slova\n",
    "reduced[\"reviews.text\"] = reduced[\"reviews.text\"].str.lower()\n",
    "print(f'\\nSlova su smanjena : \\n{reduced[\"reviews.text\"][5]}')\n",
    "\n",
    "#tokenization of words\n",
    "reduced['reviews.text'] = reduced.apply(lambda row: word_tokenize(row['reviews.text']), axis=1) \n",
    "print(f'\\nTokenization of words : \\n{reduced[\"reviews.text\"][5]}')\n",
    "\n",
    "#only alphanumerical values\n",
    "reduced[\"reviews.text\"] = reduced['reviews.text'].apply(lambda x: [item for item in x if item.isalpha()]) \n",
    "print(f'\\nUklonjeno je sve sem slova : \\n{reduced[\"reviews.text\"][5]}')\n",
    "      \n",
    "#lemmatazing words\n",
    "reduced['reviews.text'] = reduced['reviews.text'].apply(lambda x : [WordNetLemmatizer().lemmatize(y) for y in x])\n",
    "print(f'\\nReci cu skracene na svoj koren : \\n{reduced[\"reviews.text\"][5]}')\n",
    "      \n",
    "#removing useless words\n",
    "stop = stopwords.words('english')\n",
    "reduced['reviews.text'] = reduced['reviews.text'].apply(lambda x: [item for item in x if item not in stop])\n",
    "print(f'\\nIzbacene su nepotrebne reci : \\n{reduced[\"reviews.text\"][5]}')"
   ]
  },
  {
   "cell_type": "code",
   "execution_count": 5,
   "metadata": {},
   "outputs": [],
   "source": [
    "x = reduced[\"reviews.text\"]\n",
    "y = reduced[\"reviews.rating\"]\n",
    "\n",
    "x_train, x_test, y_train, y_test = model_selection.train_test_split(x, y, test_size=0.33, random_state=42, stratify=y)    "
   ]
  },
  {
   "cell_type": "code",
   "execution_count": 6,
   "metadata": {},
   "outputs": [
    {
     "name": "stdout",
     "output_type": "stream",
     "text": [
      "Imamo 11692 reci u korpusu, a mi cemo nadalje uzeti 10000 najfrekventnijih\n"
     ]
    }
   ],
   "source": [
    "max_features = 10000\n",
    "\n",
    "tokenizer = Tokenizer(num_words = max_features) # the maximum number of words to keep, based on word frequency\n",
    "tokenizer.fit_on_texts(x)\n",
    "\n",
    "vocab_size = len(tokenizer.word_index)+1\n",
    "print(f'Imamo {vocab_size} reci u korpusu, a mi cemo nadalje uzeti {max_features} najfrekventnijih')"
   ]
  },
  {
   "cell_type": "markdown",
   "metadata": {},
   "source": [
    "Neuronskoj mrezi ne mozemo da prosledimo korpus reci, vec tekst moramo nekako vektorizovati.\n",
    "\n",
    "Prva ideja je da \"tokenizujemo\" reci, zatim svakoj reci dodelimo odredjeni broj i onda recenicu predstavimo kao niz tih brojeva."
   ]
  },
  {
   "cell_type": "markdown",
   "metadata": {},
   "source": [
    "\"texts_to_sequences\": \n",
    "\n",
    "Transforimise svaki tekst u skup celobrojnih sekvenci.\n",
    "\n",
    "Prakticno uzme svaku rec u tekstu i zameni je sa odgovarajucom celobrojnom vrednoscu (uzete iz word_index recnika)."
   ]
  },
  {
   "cell_type": "code",
   "execution_count": 7,
   "metadata": {},
   "outputs": [],
   "source": [
    "x_train_tokens = np.array(tokenizer.texts_to_sequences(x_train))\n",
    "x_test_tokens = np.array(tokenizer.texts_to_sequences(x_test))"
   ]
  },
  {
   "cell_type": "code",
   "execution_count": 8,
   "metadata": {},
   "outputs": [
    {
     "name": "stdout",
     "output_type": "stream",
     "text": [
      "0.97% reci je kraca od 50 karaktera nakon preprocesiranja teksta\n"
     ]
    }
   ],
   "source": [
    "count = 0\n",
    "for row in x_train_tokens:\n",
    "    if len(row)<50:\n",
    "        count = count + 1\n",
    "percent = str(round((count/len(x_train_tokens)), 2))\n",
    "print(f'{percent}% reci je kraca od 50 karaktera nakon preprocesiranja teksta')\n",
    "\n",
    "maxlen = 50"
   ]
  },
  {
   "cell_type": "markdown",
   "metadata": {},
   "source": [
    "S obzirom da RNN treba da prosledimo ulaze istih dimenzija, definisacemo da svaku recenicu predstavlja vektor duzine 50\n",
    "\n",
    "Duze reci ce odseci (njih nema mnogo, oko 3%), dok ce kracim recima dodati nulu na kraju"
   ]
  },
  {
   "cell_type": "code",
   "execution_count": 9,
   "metadata": {},
   "outputs": [
    {
     "name": "stdout",
     "output_type": "stream",
     "text": [
      "Before pad sequences\n",
      "\n",
      "180\n",
      "[2110, 24, 186, 2931, 47, 1692, 80, 2768, 173, 186, 1432, 749, 1027, 232, 627, 80, 70, 1, 2016, 818, 43, 678, 1430, 5886, 1493, 4251, 520, 70, 210, 24, 5, 6, 52, 37, 6, 4, 192, 15, 280, 1027, 267, 181, 486, 165, 65, 1027, 9, 181, 103, 581, 31, 234, 1414, 123, 765, 836, 1766, 67, 354, 232, 720, 287, 9, 1711, 1168, 106, 597, 631, 29, 347, 158, 373, 3638, 525, 11, 1599, 9, 174, 402, 1121, 247, 810, 28, 531, 2186, 228, 32, 1411, 1695, 135, 1430, 358, 24, 142, 764, 27, 188, 1324, 1138, 193, 403, 588, 823, 286, 188, 139, 100, 1230, 1324, 1138, 188, 358, 37, 116, 205, 7, 27, 142, 111, 193, 1138, 7, 66, 675, 127, 56, 359, 42, 1122, 509, 600, 2421, 758, 419, 127, 45, 5, 72, 20, 52, 86, 234, 29, 28, 1, 338, 907, 247, 431, 443, 139, 569, 987, 225, 286, 278, 1023, 346, 2546, 2039, 4553, 36, 38, 3054, 56, 4235, 180, 776, 146, 1346, 1763, 1502, 4935, 581, 23, 30, 2129, 481, 261, 1314]\n",
      "\n",
      "After pad sequences\n",
      "\n",
      "50\n",
      "[ 600 2421  758  419  127   45    5   72   20   52   86  234   29   28\n",
      "    1  338  907  247  431  443  139  569  987  225  286  278 1023  346\n",
      " 2546 2039 4553   36   38 3054   56 4235  180  776  146 1346 1763 1502\n",
      " 4935  581   23   30 2129  481  261 1314]\n"
     ]
    }
   ],
   "source": [
    "print('Before pad sequences\\n')\n",
    "print(len(x_train_tokens[76]))\n",
    "print(x_train_tokens[76])\n",
    "\n",
    "x_train = pad_sequences(x_train_tokens, maxlen = maxlen)\n",
    "x_test = pad_sequences(x_test_tokens, maxlen = maxlen)\n",
    "\n",
    "print('\\nAfter pad sequences\\n')\n",
    "print(len(x_train[76]))\n",
    "print(x_train[76])"
   ]
  },
  {
   "cell_type": "code",
   "execution_count": 7,
   "metadata": {},
   "outputs": [],
   "source": [
    "#Fja pomocu koje cemo jednostavnije prikazati rezultate..\n",
    "\n",
    "def results_report(model, name, y_train, y_train_predicted, y_test, y_test_predicted):\n",
    "    \n",
    "    print(f'{name}\\nResults: \\n')\n",
    "    print('Train acc: {:.2%}, Test acc: {:.2%}'.format(accuracy_score(y_train, [1 if x > 0.5 else 0 for x in y_train_predicted]),\n",
    "                                                       accuracy_score(y_test, [1 if x > 0.5 else 0 for x in y_test_predicted])))\n",
    "    train_ROC = roc_auc_score(y_train, y_train_predicted)\n",
    "    test_ROC = roc_auc_score(y_test, y_test_predicted)\n",
    "    print(\"Train ROC: {:.7%}, test ROC: {:.7%}\".format(train_ROC,test_ROC))\n",
    "    print(\"Confusion matrix(for threshold 0.5): \")\n",
    "    print(\"Train set: \")\n",
    "    print(confusion_matrix(y_train, [1 if x > 0.5 else 0 for x in y_train_predicted]))\n",
    "    print(\"Test set: \")\n",
    "    print(confusion_matrix(y_test, [1 if x > 0.5 else 0 for x in y_test_predicted]))  "
   ]
  },
  {
   "cell_type": "markdown",
   "metadata": {},
   "source": [
    "Sledeca fja racuna ROC, s obzirom da takva metrika ne postoji u biblioteci keras.metrics, tj. ne mozemo da je dodamo pri naredbi \n",
    "\n",
    "model.compile(metrics=...)"
   ]
  },
  {
   "cell_type": "code",
   "execution_count": 3,
   "metadata": {},
   "outputs": [],
   "source": [
    "def auroc(y_true, y_pred):\n",
    "    return tf.py_func(roc_auc_score, (y_true, y_pred), tf.double)  "
   ]
  },
  {
   "cell_type": "markdown",
   "metadata": {},
   "source": [
    "# LSTM (epochs = 15)"
   ]
  },
  {
   "cell_type": "code",
   "execution_count": 25,
   "metadata": {},
   "outputs": [],
   "source": [
    "embedding_DIM = 64"
   ]
  },
  {
   "cell_type": "code",
   "execution_count": 26,
   "metadata": {},
   "outputs": [],
   "source": [
    "model = Sequential()\n",
    "model.add(Embedding(max_features, embedding_DIM, input_length=maxlen))\n",
    "model.add(LSTM(128))\n",
    "model.add(Dense(1, activation='sigmoid'))"
   ]
  },
  {
   "cell_type": "code",
   "execution_count": 27,
   "metadata": {},
   "outputs": [
    {
     "name": "stdout",
     "output_type": "stream",
     "text": [
      "_________________________________________________________________\n",
      "Layer (type)                 Output Shape              Param #   \n",
      "=================================================================\n",
      "embedding_1 (Embedding)      (None, 50, 64)            640000    \n",
      "_________________________________________________________________\n",
      "lstm_1 (LSTM)                (None, 128)               98816     \n",
      "_________________________________________________________________\n",
      "dense_1 (Dense)              (None, 1)                 129       \n",
      "=================================================================\n",
      "Total params: 738,945\n",
      "Trainable params: 738,945\n",
      "Non-trainable params: 0\n",
      "_________________________________________________________________\n"
     ]
    }
   ],
   "source": [
    "model.summary()"
   ]
  },
  {
   "cell_type": "code",
   "execution_count": 28,
   "metadata": {},
   "outputs": [],
   "source": [
    "model.compile(optimizer='rmsprop', loss='binary_crossentropy', metrics=['acc', auroc])"
   ]
  },
  {
   "cell_type": "code",
   "execution_count": 16,
   "metadata": {},
   "outputs": [
    {
     "name": "stdout",
     "output_type": "stream",
     "text": [
      "WARNING:tensorflow:From C:\\Users\\vladimir.lukovic\\AppData\\Roaming\\Python\\Python37\\site-packages\\tensorflow\\python\\ops\\math_ops.py:3066: to_int32 (from tensorflow.python.ops.math_ops) is deprecated and will be removed in a future version.\n",
      "Instructions for updating:\n",
      "Use tf.cast instead.\n",
      "Train on 18559 samples, validate on 4640 samples\n",
      "Epoch 1/15\n",
      "18559/18559 [==============================] - 23s 1ms/step - loss: 0.2415 - acc: 0.9301 - auroc: 0.7822 - val_loss: 0.1967 - val_acc: 0.9332 - val_auroc: 0.8333\n",
      "Epoch 2/15\n",
      "18559/18559 [==============================] - 21s 1ms/step - loss: 0.1783 - acc: 0.9377 - auroc: 0.8828 - val_loss: 0.1897 - val_acc: 0.9373 - val_auroc: 0.8430\n",
      "Epoch 3/15\n",
      "18559/18559 [==============================] - 22s 1ms/step - loss: 0.1568 - acc: 0.9448 - auroc: 0.9051 - val_loss: 0.2222 - val_acc: 0.9261 - val_auroc: 0.8320\n",
      "Epoch 4/15\n",
      "18559/18559 [==============================] - 23s 1ms/step - loss: 0.1450 - acc: 0.9496 - auroc: 0.9168 - val_loss: 0.2023 - val_acc: 0.9317 - val_auroc: 0.8426\n",
      "Epoch 5/15\n",
      "18559/18559 [==============================] - 23s 1ms/step - loss: 0.1383 - acc: 0.9525 - auroc: 0.9240 - val_loss: 0.1911 - val_acc: 0.9386 - val_auroc: 0.8471\n",
      "Epoch 6/15\n",
      "18559/18559 [==============================] - 23s 1ms/step - loss: 0.1320 - acc: 0.9553 - auroc: 0.9332 - val_loss: 0.1912 - val_acc: 0.9369 - val_auroc: 0.8471\n",
      "Epoch 7/15\n",
      "18559/18559 [==============================] - 23s 1ms/step - loss: 0.1244 - acc: 0.9575 - auroc: 0.9361 - val_loss: 0.2330 - val_acc: 0.9295 - val_auroc: 0.8372\n",
      "Epoch 8/15\n",
      "18559/18559 [==============================] - 23s 1ms/step - loss: 0.1196 - acc: 0.9601 - auroc: 0.9438 - val_loss: 0.1950 - val_acc: 0.9379 - val_auroc: 0.8414\n",
      "Epoch 9/15\n",
      "18559/18559 [==============================] - 26s 1ms/step - loss: 0.1118 - acc: 0.9621 - auroc: 0.9490 - val_loss: 0.2226 - val_acc: 0.9235 - val_auroc: 0.8401\n",
      "Epoch 10/15\n",
      "18559/18559 [==============================] - 23s 1ms/step - loss: 0.1075 - acc: 0.9629 - auroc: 0.9548 - val_loss: 0.2169 - val_acc: 0.9332 - val_auroc: 0.8292\n",
      "Epoch 11/15\n",
      "18559/18559 [==============================] - 23s 1ms/step - loss: 0.1020 - acc: 0.9661 - auroc: 0.9591 - val_loss: 0.2179 - val_acc: 0.9366 - val_auroc: 0.8091\n",
      "Epoch 12/15\n",
      "18559/18559 [==============================] - 23s 1ms/step - loss: 0.0976 - acc: 0.9668 - auroc: 0.9610 - val_loss: 0.2335 - val_acc: 0.9332 - val_auroc: 0.8115\n",
      "Epoch 13/15\n",
      "18559/18559 [==============================] - 23s 1ms/step - loss: 0.0921 - acc: 0.9690 - auroc: 0.9662 - val_loss: 0.2418 - val_acc: 0.9295 - val_auroc: 0.8088\n",
      "Epoch 14/15\n",
      "18559/18559 [==============================] - 23s 1ms/step - loss: 0.0896 - acc: 0.9706 - auroc: 0.9665 - val_loss: 0.2660 - val_acc: 0.9321 - val_auroc: 0.7948\n",
      "Epoch 15/15\n",
      "18559/18559 [==============================] - 23s 1ms/step - loss: 0.0851 - acc: 0.9721 - auroc: 0.9688 - val_loss: 0.2488 - val_acc: 0.9211 - val_auroc: 0.8066\n",
      "Vreme obucavanja je 5.77 minuta\n"
     ]
    }
   ],
   "source": [
    "epoches = 15\n",
    "batch_size = 128\n",
    "\n",
    "# treniranje mreze traje nesto duze\n",
    "start = time.time()\n",
    "\n",
    "history = model.fit(x_train, y_train, epochs=epoches, batch_size=batch_size, validation_split=0.2)\n",
    "\n",
    "end = time.time()\n",
    "print('Vreme obucavanja je {0:.2f} minuta'.format((end - start)/60))"
   ]
  },
  {
   "cell_type": "code",
   "execution_count": 17,
   "metadata": {},
   "outputs": [],
   "source": [
    "y_train_predicted = model.predict(x_train)\n",
    "y_test_predicted = model.predict(x_test)"
   ]
  },
  {
   "cell_type": "code",
   "execution_count": 23,
   "metadata": {},
   "outputs": [
    {
     "name": "stdout",
     "output_type": "stream",
     "text": [
      "Arhitectur:LSTM(15 epoches), embedding_dim=64, optimizator=rmsprop.\n",
      "Results: \n",
      "\n",
      "Train acc: 96.67%, Test acc: 92.35%\n",
      "Train ROC: 94.5628410%, test ROC: 81.9250582%\n",
      "Confusion matrix(for threshold 0.5): \n",
      "Train set: \n",
      "[[ 1009   539]\n",
      " [  233 21418]]\n",
      "Test set: \n",
      "[[  272   491]\n",
      " [  383 10281]]\n"
     ]
    }
   ],
   "source": [
    "results_report(model, 'Arhitectur:LSTM(15 epoches), embedding_dim=64, optimizator=rmsprop.',\n",
    "               y_train, y_train_predicted, y_test, y_test_predicted)"
   ]
  },
  {
   "cell_type": "code",
   "execution_count": 66,
   "metadata": {},
   "outputs": [
    {
     "data": {
      "text/plain": [
       "<matplotlib.legend.Legend at 0x213e24c9550>"
      ]
     },
     "execution_count": 66,
     "metadata": {},
     "output_type": "execute_result"
    },
    {
     "data": {
      "image/png": "[encoded data removed]",
      "text/plain": [
       "<Figure size 432x288 with 1 Axes>"
      ]
     },
     "metadata": {
      "needs_background": "light"
     },
     "output_type": "display_data"
    }
   ],
   "source": [
    "auroc = history.history['auroc']\n",
    "val_auroc = history.history['val_auroc']\n",
    "plt.plot(range(epoches), auroc, color='red', label='training')\n",
    "plt.plot(range(epoches), val_auroc, color='orange', label='validation')\n",
    "plt.title('Under the roc curve for training and validation:')\n",
    "plt.legend(loc='best')"
   ]
  },
  {
   "cell_type": "markdown",
   "metadata": {},
   "source": [
    "Vidimo da bi broj epoha definitivno trebao da se smanji na 5,6"
   ]
  },
  {
   "cell_type": "code",
   "execution_count": 84,
   "metadata": {},
   "outputs": [
    {
     "data": {
      "image/png": "[encoded data removed]",
      "text/plain": [
       "<Figure size 864x288 with 2 Axes>"
      ]
     },
     "metadata": {
      "needs_background": "light"
     },
     "output_type": "display_data"
    }
   ],
   "source": [
    "f,(ax1, ax2) = plt.subplots(1, 2, figsize=(12, 4), sharex=True)\n",
    "ax1.set_title('Accuracy ', fontdict={'fontsize':20})\n",
    "ax2.set_title('Loss function ', fontdict={'fontsize':20})\n",
    "\n",
    "acc = history.history['acc']\n",
    "val_acc = history.history['val_acc']\n",
    "ax1.plot(range(epoches), acc, color='red', label='training')\n",
    "ax1.plot(range(epoches), val_acc, color='orange', label='validation')\n",
    "ax1.legend(loc='best')\n",
    "ax1.set_xlabel('Number of epoches')\n",
    "\n",
    "loss = history.history['loss']\n",
    "val_loss = history.history['val_loss']\n",
    "ax2.plot(range(epoches), loss, color='red', label='training')\n",
    "ax2.plot(range(epoches), val_loss, color='orange', label='validation')\n",
    "ax2.legend(loc='best')\n",
    "ax2.set_xlabel('Number of epoches')\n",
    "\n",
    "plt.subplots_adjust(wspace=0.3)"
   ]
  },
  {
   "cell_type": "code",
   "execution_count": 24,
   "metadata": {},
   "outputs": [],
   "source": [
    "K.clear_session()   ### Destroys the current TF graph and creates a new one"
   ]
  },
  {
   "cell_type": "markdown",
   "metadata": {},
   "source": [
    "# LSTM (epochs = 6)"
   ]
  },
  {
   "cell_type": "code",
   "execution_count": 29,
   "metadata": {},
   "outputs": [
    {
     "name": "stdout",
     "output_type": "stream",
     "text": [
      "Train on 18559 samples, validate on 4640 samples\n",
      "Epoch 1/6\n",
      "18559/18559 [==============================] - 22s 1ms/step - loss: 0.2369 - acc: 0.9293 - auroc: 0.7447 - val_loss: 0.1978 - val_acc: 0.9338 - val_auroc: 0.8404\n",
      "Epoch 2/6\n",
      "18559/18559 [==============================] - 21s 1ms/step - loss: 0.1726 - acc: 0.9402 - auroc: 0.8802 - val_loss: 0.1889 - val_acc: 0.9384 - val_auroc: 0.8446\n",
      "Epoch 3/6\n",
      "18559/18559 [==============================] - 22s 1ms/step - loss: 0.1533 - acc: 0.9467 - auroc: 0.9063 - val_loss: 0.1857 - val_acc: 0.9394 - val_auroc: 0.8516\n",
      "Epoch 4/6\n",
      "18559/18559 [==============================] - 22s 1ms/step - loss: 0.1433 - acc: 0.9507 - auroc: 0.9220 - val_loss: 0.1981 - val_acc: 0.9325 - val_auroc: 0.8503\n",
      "Epoch 5/6\n",
      "18559/18559 [==============================] - 23s 1ms/step - loss: 0.1350 - acc: 0.9533 - auroc: 0.9295 - val_loss: 0.2127 - val_acc: 0.9226 - val_auroc: 0.8486\n",
      "Epoch 6/6\n",
      "18559/18559 [==============================] - 23s 1ms/step - loss: 0.1284 - acc: 0.9560 - auroc: 0.9375 - val_loss: 0.2043 - val_acc: 0.9297 - val_auroc: 0.8519\n",
      "Vreme obucavanja je 2.25 minuta\n"
     ]
    }
   ],
   "source": [
    "epoches = 6\n",
    "batch_size = 128\n",
    "\n",
    "# treniranje mreze traje nesto duze\n",
    "start = time.time()\n",
    "\n",
    "history = model.fit(x_train, y_train, epochs=epoches, batch_size=batch_size, validation_split=0.2)\n",
    "\n",
    "end = time.time()\n",
    "print('Vreme obucavanja je {0:.2f} minuta'.format((end - start)/60))"
   ]
  },
  {
   "cell_type": "code",
   "execution_count": 30,
   "metadata": {},
   "outputs": [],
   "source": [
    "y_train_predicted = model.predict(x_train)\n",
    "y_test_predicted = model.predict(x_test)"
   ]
  },
  {
   "cell_type": "code",
   "execution_count": 31,
   "metadata": {},
   "outputs": [
    {
     "name": "stdout",
     "output_type": "stream",
     "text": [
      "Arhitectur:LSTM(6 epoches), embedding_dim=64, optimizator=rmsprop.\n",
      "Results: \n",
      "\n",
      "Train acc: 95.37%, Test acc: 93.31%\n",
      "Train ROC: 92.7388611%, test ROC: 85.6963729%\n",
      "Confusion matrix(for threshold 0.5): \n",
      "Train set: \n",
      "[[  828   720]\n",
      " [  355 21296]]\n",
      "Test set: \n",
      "[[  281   482]\n",
      " [  283 10381]]\n"
     ]
    }
   ],
   "source": [
    "results_report(model, 'Arhitectur:LSTM(6 epoches), embedding_dim=64, optimizator=rmsprop.',\n",
    "               y_train, y_train_predicted, y_test, y_test_predicted)"
   ]
  },
  {
   "cell_type": "code",
   "execution_count": 32,
   "metadata": {},
   "outputs": [],
   "source": [
    "K.clear_session()"
   ]
  },
  {
   "cell_type": "markdown",
   "metadata": {},
   "source": [
    "# Find hyperparametar in LSTM"
   ]
  },
  {
   "cell_type": "markdown",
   "metadata": {},
   "source": [
    "Pokusacemo da vidimo koji optimizacioni algoritam bi bilo najbolje da koristimo kao i najbolju dimenziju embedding sloja"
   ]
  },
  {
   "cell_type": "code",
   "execution_count": 35,
   "metadata": {},
   "outputs": [],
   "source": [
    "best_ROC = 0\n",
    "best_acc = 0\n",
    "best_optimizer = None\n",
    "best_ED = None\n",
    "\n",
    "optimizer = {'rmsprop', 'Adam', 'SGD'}\n",
    "embedding_dimensionality = [16,32,64,128,256]\n",
    "\n",
    "epoches = 6\n",
    "batch_size = 128\n",
    "max_features = 10000\n",
    "maxlen = 50"
   ]
  },
  {
   "cell_type": "code",
   "execution_count": 11,
   "metadata": {},
   "outputs": [
    {
     "name": "stdout",
     "output_type": "stream",
     "text": [
      "WARNING:tensorflow:From C:\\Users\\vladimir.lukovic\\AppData\\Roaming\\Python\\Python37\\site-packages\\tensorflow\\python\\framework\\op_def_library.py:263: colocate_with (from tensorflow.python.framework.ops) is deprecated and will be removed in a future version.\n",
      "Instructions for updating:\n",
      "Colocations handled automatically by placer.\n",
      "WARNING:tensorflow:From C:\\Users\\vladimir.lukovic\\AppData\\Roaming\\Python\\Python37\\site-packages\\tensorflow\\python\\ops\\math_ops.py:3066: to_int32 (from tensorflow.python.ops.math_ops) is deprecated and will be removed in a future version.\n",
      "Instructions for updating:\n",
      "Use tf.cast instead.\n",
      "Train on 18559 samples, validate on 4640 samples\n",
      "Epoch 1/6\n",
      "18559/18559 [==============================] - 18s 981us/step - loss: 0.2551 - acc: 0.9299 - val_loss: 0.2409 - val_acc: 0.9332\n",
      "Epoch 2/6\n",
      "18559/18559 [==============================] - 17s 903us/step - loss: 0.1991 - acc: 0.9350 - val_loss: 0.1944 - val_acc: 0.9351\n",
      "Epoch 3/6\n",
      "18559/18559 [==============================] - 17s 937us/step - loss: 0.1759 - acc: 0.9372 - val_loss: 0.1880 - val_acc: 0.9397\n",
      "Epoch 4/6\n",
      "18559/18559 [==============================] - 18s 969us/step - loss: 0.1548 - acc: 0.9456 - val_loss: 0.1883 - val_acc: 0.9366\n",
      "Epoch 5/6\n",
      "18559/18559 [==============================] - 18s 962us/step - loss: 0.1482 - acc: 0.9479 - val_loss: 0.1975 - val_acc: 0.9351\n",
      "Epoch 6/6\n",
      "18559/18559 [==============================] - 18s 955us/step - loss: 0.1426 - acc: 0.9501 - val_loss: 0.1904 - val_acc: 0.9388\n",
      "Train on 18559 samples, validate on 4640 samples\n",
      "Epoch 1/6\n",
      "18559/18559 [==============================] - 20s 1ms/step - loss: 0.2768 - acc: 0.9303 - val_loss: 0.2417 - val_acc: 0.9332\n",
      "Epoch 2/6\n",
      "18559/18559 [==============================] - 18s 993us/step - loss: 0.2115 - acc: 0.9336 - val_loss: 0.1955 - val_acc: 0.9369\n",
      "Epoch 3/6\n",
      "18559/18559 [==============================] - 18s 990us/step - loss: 0.1519 - acc: 0.9470 - val_loss: 0.2051 - val_acc: 0.9317\n",
      "Epoch 4/6\n",
      "18559/18559 [==============================] - 18s 981us/step - loss: 0.1310 - acc: 0.9541 - val_loss: 0.2003 - val_acc: 0.9315\n",
      "Epoch 5/6\n",
      "18559/18559 [==============================] - 18s 987us/step - loss: 0.1146 - acc: 0.9605 - val_loss: 0.2098 - val_acc: 0.9347\n",
      "Epoch 6/6\n",
      "18559/18559 [==============================] - 19s 1ms/step - loss: 0.1021 - acc: 0.9660 - val_loss: 0.2184 - val_acc: 0.9343\n",
      "Train on 18559 samples, validate on 4640 samples\n",
      "Epoch 1/6\n",
      "18559/18559 [==============================] - 21s 1ms/step - loss: 0.4677 - acc: 0.9298 - val_loss: 0.3239 - val_acc: 0.9332\n",
      "Epoch 2/6\n",
      "18559/18559 [==============================] - 19s 1ms/step - loss: 0.2751 - acc: 0.9333 - val_loss: 0.2510 - val_acc: 0.9332\n",
      "Epoch 3/6\n",
      "18559/18559 [==============================] - 19s 1ms/step - loss: 0.2469 - acc: 0.9333 - val_loss: 0.2455 - val_acc: 0.9332\n",
      "Epoch 4/6\n",
      "18559/18559 [==============================] - 19s 1ms/step - loss: 0.2451 - acc: 0.9333 - val_loss: 0.2453 - val_acc: 0.9332\n",
      "Epoch 5/6\n",
      "18559/18559 [==============================] - 21s 1ms/step - loss: 0.2450 - acc: 0.9333 - val_loss: 0.2452 - val_acc: 0.9332\n",
      "Epoch 6/6\n",
      "18559/18559 [==============================] - 21s 1ms/step - loss: 0.2449 - acc: 0.9333 - val_loss: 0.2452 - val_acc: 0.9332\n",
      "Train on 18559 samples, validate on 4640 samples\n",
      "Epoch 1/6\n",
      "18559/18559 [==============================] - 22s 1ms/step - loss: 0.2492 - acc: 0.9288 - val_loss: 0.2100 - val_acc: 0.9332\n",
      "Epoch 2/6\n",
      "18559/18559 [==============================] - 20s 1ms/step - loss: 0.1853 - acc: 0.9374 - val_loss: 0.1893 - val_acc: 0.9377\n",
      "Epoch 3/6\n",
      "18559/18559 [==============================] - 20s 1ms/step - loss: 0.1586 - acc: 0.9444 - val_loss: 0.1840 - val_acc: 0.9392\n",
      "Epoch 4/6\n",
      "18559/18559 [==============================] - 21s 1ms/step - loss: 0.1474 - acc: 0.9490 - val_loss: 0.1932 - val_acc: 0.9392\n",
      "Epoch 5/6\n",
      "18559/18559 [==============================] - 20s 1ms/step - loss: 0.1382 - acc: 0.9520 - val_loss: 0.1886 - val_acc: 0.9390\n",
      "Epoch 6/6\n",
      "18559/18559 [==============================] - 20s 1ms/step - loss: 0.1320 - acc: 0.9551 - val_loss: 0.1903 - val_acc: 0.9394\n",
      "Train on 18559 samples, validate on 4640 samples\n",
      "Epoch 1/6\n",
      "18559/18559 [==============================] - 23s 1ms/step - loss: 0.2602 - acc: 0.9290 - val_loss: 0.2072 - val_acc: 0.9334\n",
      "Epoch 2/6\n",
      "18559/18559 [==============================] - 21s 1ms/step - loss: 0.1698 - acc: 0.9401 - val_loss: 0.1926 - val_acc: 0.9379\n",
      "Epoch 3/6\n",
      "18559/18559 [==============================] - 21s 1ms/step - loss: 0.1343 - acc: 0.9517 - val_loss: 0.2018 - val_acc: 0.9304\n",
      "Epoch 4/6\n",
      "18559/18559 [==============================] - 21s 1ms/step - loss: 0.1168 - acc: 0.9598 - val_loss: 0.2140 - val_acc: 0.9360\n",
      "Epoch 5/6\n",
      "18559/18559 [==============================] - 21s 1ms/step - loss: 0.1030 - acc: 0.9648 - val_loss: 0.2284 - val_acc: 0.9244\n",
      "Epoch 6/6\n",
      "18559/18559 [==============================] - 21s 1ms/step - loss: 0.0906 - acc: 0.9705 - val_loss: 0.2595 - val_acc: 0.9321\n",
      "Train on 18559 samples, validate on 4640 samples\n",
      "Epoch 1/6\n",
      "18559/18559 [==============================] - 24s 1ms/step - loss: 0.4535 - acc: 0.9288 - val_loss: 0.3063 - val_acc: 0.9332\n",
      "Epoch 2/6\n",
      "18559/18559 [==============================] - 21s 1ms/step - loss: 0.2654 - acc: 0.9333 - val_loss: 0.2480 - val_acc: 0.9332\n",
      "Epoch 3/6\n",
      "18559/18559 [==============================] - 21s 1ms/step - loss: 0.2458 - acc: 0.9333 - val_loss: 0.2454 - val_acc: 0.9332\n",
      "Epoch 4/6\n",
      "18559/18559 [==============================] - 21s 1ms/step - loss: 0.2451 - acc: 0.9333 - val_loss: 0.2452 - val_acc: 0.9332\n",
      "Epoch 5/6\n",
      "18559/18559 [==============================] - 21s 1ms/step - loss: 0.2450 - acc: 0.9333 - val_loss: 0.2452 - val_acc: 0.9332\n",
      "Epoch 6/6\n",
      "18559/18559 [==============================] - 21s 1ms/step - loss: 0.2450 - acc: 0.9333 - val_loss: 0.2452 - val_acc: 0.9332\n",
      "Train on 18559 samples, validate on 4640 samples\n",
      "Epoch 1/6\n",
      "18559/18559 [==============================] - 25s 1ms/step - loss: 0.2362 - acc: 0.9293 - val_loss: 0.1961 - val_acc: 0.9345\n",
      "Epoch 2/6\n",
      "18559/18559 [==============================] - 25s 1ms/step - loss: 0.1696 - acc: 0.9408 - val_loss: 0.2115 - val_acc: 0.9282\n",
      "Epoch 3/6\n",
      "18559/18559 [==============================] - 24s 1ms/step - loss: 0.1537 - acc: 0.9467 - val_loss: 0.1891 - val_acc: 0.9375\n",
      "Epoch 4/6\n",
      "18559/18559 [==============================] - 24s 1ms/step - loss: 0.1433 - acc: 0.9495 - val_loss: 0.1937 - val_acc: 0.9394\n",
      "Epoch 5/6\n",
      "18559/18559 [==============================] - 24s 1ms/step - loss: 0.1374 - acc: 0.9533 - val_loss: 0.2047 - val_acc: 0.9256\n",
      "Epoch 6/6\n",
      "18559/18559 [==============================] - 24s 1ms/step - loss: 0.1298 - acc: 0.9545 - val_loss: 0.1932 - val_acc: 0.9386\n",
      "Train on 18559 samples, validate on 4640 samples\n",
      "Epoch 1/6\n",
      "18559/18559 [==============================] - 28s 2ms/step - loss: 0.2525 - acc: 0.9314 - val_loss: 0.1939 - val_acc: 0.9353\n",
      "Epoch 2/6\n",
      "18559/18559 [==============================] - 26s 1ms/step - loss: 0.1581 - acc: 0.9441 - val_loss: 0.1947 - val_acc: 0.9338\n",
      "Epoch 3/6\n",
      "18559/18559 [==============================] - 27s 1ms/step - loss: 0.1291 - acc: 0.9551 - val_loss: 0.2021 - val_acc: 0.9356\n",
      "Epoch 4/6\n",
      "18559/18559 [==============================] - 26s 1ms/step - loss: 0.1078 - acc: 0.9636 - val_loss: 0.2180 - val_acc: 0.9362\n",
      "Epoch 5/6\n",
      "18559/18559 [==============================] - 26s 1ms/step - loss: 0.0936 - acc: 0.9684 - val_loss: 0.2409 - val_acc: 0.9319\n",
      "Epoch 6/6\n",
      "18559/18559 [==============================] - 26s 1ms/step - loss: 0.0782 - acc: 0.9749 - val_loss: 0.2477 - val_acc: 0.9261\n",
      "Train on 18559 samples, validate on 4640 samples\n",
      "Epoch 1/6\n",
      "18559/18559 [==============================] - 27s 1ms/step - loss: 0.4664 - acc: 0.9294 - val_loss: 0.3193 - val_acc: 0.9332\n",
      "Epoch 2/6\n",
      "18559/18559 [==============================] - 26s 1ms/step - loss: 0.2718 - acc: 0.9333 - val_loss: 0.2500 - val_acc: 0.9332\n",
      "Epoch 3/6\n",
      "18559/18559 [==============================] - 26s 1ms/step - loss: 0.2464 - acc: 0.9333 - val_loss: 0.2453 - val_acc: 0.9332\n",
      "Epoch 4/6\n",
      "18559/18559 [==============================] - 27s 1ms/step - loss: 0.2449 - acc: 0.9333 - val_loss: 0.2450 - val_acc: 0.9332\n",
      "Epoch 5/6\n",
      "18559/18559 [==============================] - 26s 1ms/step - loss: 0.2449 - acc: 0.9333 - val_loss: 0.2450 - val_acc: 0.9332\n",
      "Epoch 6/6\n",
      "18559/18559 [==============================] - 26s 1ms/step - loss: 0.2448 - acc: 0.9333 - val_loss: 0.2450 - val_acc: 0.9332\n",
      "Train on 18559 samples, validate on 4640 samples\n",
      "Epoch 1/6\n",
      "18559/18559 [==============================] - 43s 2ms/step - loss: 0.2265 - acc: 0.9315 - val_loss: 0.1944 - val_acc: 0.9358\n",
      "Epoch 2/6\n",
      "18559/18559 [==============================] - 41s 2ms/step - loss: 0.1661 - acc: 0.9427 - val_loss: 0.1845 - val_acc: 0.9409\n",
      "Epoch 3/6\n",
      "18559/18559 [==============================] - 39s 2ms/step - loss: 0.1488 - acc: 0.9482 - val_loss: 0.1925 - val_acc: 0.9349\n",
      "Epoch 4/6\n",
      "18559/18559 [==============================] - 38s 2ms/step - loss: 0.1368 - acc: 0.9522 - val_loss: 0.1903 - val_acc: 0.9403\n",
      "Epoch 5/6\n",
      "18559/18559 [==============================] - 38s 2ms/step - loss: 0.1271 - acc: 0.9563 - val_loss: 0.1965 - val_acc: 0.9399\n",
      "Epoch 6/6\n",
      "18559/18559 [==============================] - 38s 2ms/step - loss: 0.1182 - acc: 0.9592 - val_loss: 0.2071 - val_acc: 0.9403\n",
      "Train on 18559 samples, validate on 4640 samples\n",
      "Epoch 1/6\n",
      "18559/18559 [==============================] - 43s 2ms/step - loss: 0.2594 - acc: 0.9312 - val_loss: 0.2003 - val_acc: 0.9345\n",
      "Epoch 2/6\n",
      "18559/18559 [==============================] - 41s 2ms/step - loss: 0.1671 - acc: 0.9433 - val_loss: 0.1920 - val_acc: 0.9364\n",
      "Epoch 3/6\n",
      "18559/18559 [==============================] - 41s 2ms/step - loss: 0.1338 - acc: 0.9540 - val_loss: 0.2039 - val_acc: 0.9323\n",
      "Epoch 4/6\n",
      "18559/18559 [==============================] - 41s 2ms/step - loss: 0.1108 - acc: 0.9625 - val_loss: 0.2096 - val_acc: 0.9287\n",
      "Epoch 5/6\n",
      "18559/18559 [==============================] - 43s 2ms/step - loss: 0.0933 - acc: 0.9684 - val_loss: 0.2518 - val_acc: 0.9353\n",
      "Epoch 6/6\n",
      "18559/18559 [==============================] - 45s 2ms/step - loss: 0.0830 - acc: 0.9721 - val_loss: 0.2762 - val_acc: 0.9213\n",
      "Train on 18559 samples, validate on 4640 samples\n",
      "Epoch 1/6\n",
      "18559/18559 [==============================] - 44s 2ms/step - loss: 0.4523 - acc: 0.9290 - val_loss: 0.3082 - val_acc: 0.9332\n",
      "Epoch 2/6\n",
      "18559/18559 [==============================] - 43s 2ms/step - loss: 0.2674 - acc: 0.9333 - val_loss: 0.2489 - val_acc: 0.9332\n",
      "Epoch 3/6\n",
      "18559/18559 [==============================] - 46s 2ms/step - loss: 0.2461 - acc: 0.9333 - val_loss: 0.2452 - val_acc: 0.9332\n",
      "Epoch 4/6\n",
      "18559/18559 [==============================] - 43s 2ms/step - loss: 0.2448 - acc: 0.9333 - val_loss: 0.2450 - val_acc: 0.9332\n",
      "Epoch 5/6\n",
      "18559/18559 [==============================] - 44s 2ms/step - loss: 0.2447 - acc: 0.9333 - val_loss: 0.2449 - val_acc: 0.9332\n",
      "Epoch 6/6\n",
      "18559/18559 [==============================] - 44s 2ms/step - loss: 0.2447 - acc: 0.9333 - val_loss: 0.2448 - val_acc: 0.9332\n",
      "Train on 18559 samples, validate on 4640 samples\n",
      "Epoch 1/6\n",
      "18559/18559 [==============================] - 64s 3ms/step - loss: 0.2238 - acc: 0.9297 - val_loss: 0.1911 - val_acc: 0.9343\n",
      "Epoch 2/6\n",
      "18559/18559 [==============================] - 60s 3ms/step - loss: 0.1684 - acc: 0.9407 - val_loss: 0.1932 - val_acc: 0.9386\n",
      "Epoch 3/6\n",
      "18559/18559 [==============================] - 62s 3ms/step - loss: 0.1468 - acc: 0.9486 - val_loss: 0.1857 - val_acc: 0.9386\n",
      "Epoch 4/6\n",
      "18559/18559 [==============================] - 61s 3ms/step - loss: 0.1349 - acc: 0.9546 - val_loss: 0.2590 - val_acc: 0.8959\n",
      "Epoch 5/6\n",
      "18559/18559 [==============================] - 59s 3ms/step - loss: 0.1257 - acc: 0.9561 - val_loss: 0.1983 - val_acc: 0.9377\n",
      "Epoch 6/6\n",
      "18559/18559 [==============================] - 67s 4ms/step - loss: 0.1143 - acc: 0.9609 - val_loss: 0.2123 - val_acc: 0.9291\n",
      "Train on 18559 samples, validate on 4640 samples\n",
      "Epoch 1/6\n",
      "18559/18559 [==============================] - 65s 3ms/step - loss: 0.2415 - acc: 0.9310 - val_loss: 0.1924 - val_acc: 0.9369\n",
      "Epoch 2/6\n",
      "18559/18559 [==============================] - 63s 3ms/step - loss: 0.1486 - acc: 0.9495 - val_loss: 0.1946 - val_acc: 0.9375\n",
      "Epoch 3/6\n",
      "18559/18559 [==============================] - 65s 4ms/step - loss: 0.1171 - acc: 0.9600 - val_loss: 0.2132 - val_acc: 0.9295\n",
      "Epoch 4/6\n",
      "18559/18559 [==============================] - 66s 4ms/step - loss: 0.0946 - acc: 0.9683 - val_loss: 0.2269 - val_acc: 0.9216\n",
      "Epoch 5/6\n",
      "18559/18559 [==============================] - 65s 3ms/step - loss: 0.0799 - acc: 0.9744 - val_loss: 0.2534 - val_acc: 0.9284\n",
      "Epoch 6/6\n",
      "18559/18559 [==============================] - 65s 3ms/step - loss: 0.0656 - acc: 0.9796 - val_loss: 0.2935 - val_acc: 0.9226\n",
      "Train on 18559 samples, validate on 4640 samples\n",
      "Epoch 1/6\n",
      "18559/18559 [==============================] - 62s 3ms/step - loss: 0.4726 - acc: 0.9305 - val_loss: 0.3274 - val_acc: 0.9332\n",
      "Epoch 2/6\n",
      "18559/18559 [==============================] - 65s 4ms/step - loss: 0.2752 - acc: 0.9333 - val_loss: 0.2495 - val_acc: 0.9332\n",
      "Epoch 3/6\n",
      "18559/18559 [==============================] - 85s 5ms/step - loss: 0.2457 - acc: 0.9333 - val_loss: 0.2445 - val_acc: 0.9332\n",
      "Epoch 4/6\n",
      "18559/18559 [==============================] - 67s 4ms/step - loss: 0.2442 - acc: 0.9333 - val_loss: 0.2443 - val_acc: 0.9332\n",
      "Epoch 5/6\n",
      "18559/18559 [==============================] - 67s 4ms/step - loss: 0.2441 - acc: 0.9333 - val_loss: 0.2442 - val_acc: 0.9332\n",
      "Epoch 6/6\n",
      "18559/18559 [==============================] - 66s 4ms/step - loss: 0.2440 - acc: 0.9333 - val_loss: 0.2442 - val_acc: 0.9332\n",
      "Vreme obucavanja je 53.90 minuta\n"
     ]
    }
   ],
   "source": [
    "start = time.time()\n",
    "\n",
    "for ed in embedding_dimensionality:\n",
    "    for o in optimizer:\n",
    "                 \n",
    "        embedding_DIM = ed\n",
    "            \n",
    "        model = Sequential()\n",
    "        model.add(Embedding(max_features, embedding_DIM, input_length=maxlen))\n",
    "        model.add(LSTM(128))  # probati sa LSTM(units=128, dropout=0.2)\n",
    "        model.add(Dense(1, activation='sigmoid'))\n",
    "            \n",
    "        model.compile(optimizer=o, loss='binary_crossentropy', metrics=['acc'])\n",
    "            \n",
    "        history = model.fit(x_train, y_train, epochs=epoches, batch_size=batch_size, validation_split=0.2)\n",
    "            \n",
    "        y_test_predicted = model.predict(x_test)\n",
    "            \n",
    "        ROC = roc_auc_score(y_test, y_test_predicted)\n",
    "        acc = accuracy_score(y_test, [1 if x > 0.5 else 0 for x in y_test_predicted])\n",
    "            \n",
    "        if (ROC>best_ROC) and (acc+0.5>best_acc):   # ROC metrika nam je priorite u odnosu na accuracy metriku.\n",
    "            best_ROC = ROC\n",
    "            best_acc = acc\n",
    "            best_optimizer = o\n",
    "            best_ED = ed\n",
    "                \n",
    "end = time.time()\n",
    "print('Vreme obucavanja je {0:.2f} minuta'.format((end - start)/60))"
   ]
  },
  {
   "cell_type": "code",
   "execution_count": 13,
   "metadata": {},
   "outputs": [
    {
     "name": "stdout",
     "output_type": "stream",
     "text": [
      "Best embedding dimensionality : 32, \n",
      "Best optimizator : rmsprop\n"
     ]
    }
   ],
   "source": [
    "print(f\"Best embedding dimensionality : {best_ED}, \\nBest optimizator : {best_optimizer}\")  "
   ]
  },
  {
   "cell_type": "code",
   "execution_count": 12,
   "metadata": {},
   "outputs": [
    {
     "name": "stdout",
     "output_type": "stream",
     "text": [
      "WARNING:tensorflow:From C:\\Users\\vladimir.lukovic\\AppData\\Roaming\\Python\\Python37\\site-packages\\tensorflow\\python\\framework\\op_def_library.py:263: colocate_with (from tensorflow.python.framework.ops) is deprecated and will be removed in a future version.\n",
      "Instructions for updating:\n",
      "Colocations handled automatically by placer.\n"
     ]
    }
   ],
   "source": [
    "embedding_DIM = 32\n",
    "\n",
    "model = Sequential()\n",
    "model.add(Embedding(max_features, embedding_DIM, input_length=maxlen))\n",
    "model.add(LSTM(128)) # slicno je ako se stavi dropout=0.2\n",
    "model.add(Dense(1, activation='sigmoid'))"
   ]
  },
  {
   "cell_type": "code",
   "execution_count": 13,
   "metadata": {},
   "outputs": [
    {
     "name": "stdout",
     "output_type": "stream",
     "text": [
      "WARNING:tensorflow:From <ipython-input-11-ae00dc11758c>:2: py_func (from tensorflow.python.ops.script_ops) is deprecated and will be removed in a future version.\n",
      "Instructions for updating:\n",
      "tf.py_func is deprecated in TF V2. Instead, use\n",
      "    tf.py_function, which takes a python function which manipulates tf eager\n",
      "    tensors instead of numpy arrays. It's easy to convert a tf eager tensor to\n",
      "    an ndarray (just call tensor.numpy()) but having access to eager tensors\n",
      "    means `tf.py_function`s can use accelerators such as GPUs as well as\n",
      "    being differentiable using a gradient tape.\n",
      "    \n"
     ]
    }
   ],
   "source": [
    "model.compile(optimizer='rmsprop', loss='binary_crossentropy', metrics=['acc', auroc])"
   ]
  },
  {
   "cell_type": "code",
   "execution_count": 14,
   "metadata": {},
   "outputs": [
    {
     "name": "stdout",
     "output_type": "stream",
     "text": [
      "WARNING:tensorflow:From C:\\Users\\vladimir.lukovic\\AppData\\Roaming\\Python\\Python37\\site-packages\\tensorflow\\python\\ops\\math_ops.py:3066: to_int32 (from tensorflow.python.ops.math_ops) is deprecated and will be removed in a future version.\n",
      "Instructions for updating:\n",
      "Use tf.cast instead.\n",
      "Train on 18559 samples, validate on 4640 samples\n",
      "Epoch 1/6\n",
      "18559/18559 [==============================] - 19s 1ms/step - loss: 0.2531 - acc: 0.9305 - auroc: 0.7438 - val_loss: 0.2339 - val_acc: 0.9332 - val_auroc: 0.8054\n",
      "Epoch 2/6\n",
      "18559/18559 [==============================] - 18s 968us/step - loss: 0.1867 - acc: 0.9373 - auroc: 0.8689 - val_loss: 0.2043 - val_acc: 0.9360 - val_auroc: 0.8372\n",
      "Epoch 3/6\n",
      "18559/18559 [==============================] - 19s 1ms/step - loss: 0.1607 - acc: 0.9440 - auroc: 0.9017 - val_loss: 0.1893 - val_acc: 0.9384 - val_auroc: 0.8416\n",
      "Epoch 4/6\n",
      "18559/18559 [==============================] - 20s 1ms/step - loss: 0.1505 - acc: 0.9488 - auroc: 0.9096 - val_loss: 0.1916 - val_acc: 0.9381 - val_auroc: 0.8475\n",
      "Epoch 5/6\n",
      "18559/18559 [==============================] - 20s 1ms/step - loss: 0.1431 - acc: 0.9499 - auroc: 0.9189 - val_loss: 0.1915 - val_acc: 0.9343 - val_auroc: 0.8450\n",
      "Epoch 6/6\n",
      "18559/18559 [==============================] - 20s 1ms/step - loss: 0.1355 - acc: 0.9534 - auroc: 0.9276 - val_loss: 0.1901 - val_acc: 0.9369 - val_auroc: 0.8451\n",
      "Vreme obucavanja je 1.94 minuta\n"
     ]
    }
   ],
   "source": [
    "epoches = 6\n",
    "batch_size = 128\n",
    "\n",
    "# treniranje mreze traje nesto duze\n",
    "start = time.time()\n",
    "\n",
    "history = model.fit(x_train, y_train, epochs=epoches, batch_size=batch_size, validation_split=0.2)\n",
    "\n",
    "end = time.time()\n",
    "print('Vreme obucavanja je {0:.2f} minuta'.format((end - start)/60))"
   ]
  },
  {
   "cell_type": "code",
   "execution_count": 15,
   "metadata": {},
   "outputs": [],
   "source": [
    "y_train_predicted = model.predict(x_train)\n",
    "y_test_predicted = model.predict(x_test)"
   ]
  },
  {
   "cell_type": "code",
   "execution_count": 16,
   "metadata": {},
   "outputs": [
    {
     "name": "stdout",
     "output_type": "stream",
     "text": [
      "Arhitectur:LSTM(6 epoches), embedding_dim=32, optimizator=rmsprop.\n",
      "Results: \n",
      "\n",
      "Train acc: 95.34%, Test acc: 93.60%\n",
      "Train ROC: 91.9489429%, test ROC: 85.9408291%\n",
      "Confusion matrix(for threshold 0.5): \n",
      "Train set: \n",
      "[[  738   810]\n",
      " [  270 21381]]\n",
      "Test set: \n",
      "[[  249   514]\n",
      " [  217 10447]]\n"
     ]
    }
   ],
   "source": [
    "results_report(model, 'Arhitectur:LSTM(6 epoches), embedding_dim=32, optimizator=rmsprop.',\n",
    "               y_train, y_train_predicted, y_test, y_test_predicted)"
   ]
  },
  {
   "cell_type": "code",
   "execution_count": 15,
   "metadata": {},
   "outputs": [
    {
     "data": {
      "text/plain": [
       "<matplotlib.legend.Legend at 0x217a550cf60>"
      ]
     },
     "execution_count": 15,
     "metadata": {},
     "output_type": "execute_result"
    },
    {
     "data": {
      "image/png": "[encoded data removed]",
      "text/plain": [
       "<Figure size 432x288 with 1 Axes>"
      ]
     },
     "metadata": {
      "needs_background": "light"
     },
     "output_type": "display_data"
    }
   ],
   "source": [
    "auroc = history.history['auroc']\n",
    "val_auroc = history.history['val_auroc']\n",
    "plt.plot(range(epoches), auroc, color='red', label='training')\n",
    "plt.plot(range(epoches), val_auroc, color='orange', label='validation')\n",
    "plt.title('Under the roc curve for training and validation:')\n",
    "plt.legend(loc='best')"
   ]
  },
  {
   "cell_type": "code",
   "execution_count": 16,
   "metadata": {},
   "outputs": [
    {
     "data": {
      "image/png": "[encoded data removed]",
      "text/plain": [
       "<Figure size 864x288 with 2 Axes>"
      ]
     },
     "metadata": {
      "needs_background": "light"
     },
     "output_type": "display_data"
    }
   ],
   "source": [
    "f,(ax1, ax2) = plt.subplots(1, 2, figsize=(12, 4), sharex=True)\n",
    "ax1.set_title('Accuracy ', fontdict={'fontsize':20})\n",
    "ax2.set_title('Loss function ', fontdict={'fontsize':20})\n",
    "\n",
    "acc = history.history['acc']\n",
    "val_acc = history.history['val_acc']\n",
    "ax1.plot(range(epoches), acc, color='red', label='training')\n",
    "ax1.plot(range(epoches), val_acc, color='orange', label='validation')\n",
    "ax1.legend(loc='best')\n",
    "ax1.set_xlabel('Number of epoches')\n",
    "\n",
    "loss = history.history['loss']\n",
    "val_loss = history.history['val_loss']\n",
    "ax2.plot(range(epoches), loss, color='red', label='training')\n",
    "ax2.plot(range(epoches), val_loss, color='orange', label='validation')\n",
    "ax2.legend(loc='best')\n",
    "ax2.set_xlabel('Number of epoches')\n",
    "\n",
    "plt.subplots_adjust(wspace=0.3)"
   ]
  },
  {
   "cell_type": "markdown",
   "metadata": {},
   "source": [
    "Dobili smo Test Roc = 85.95% , sto uopste nije lose, iako smo mozda malo vise ocekivali od neuronski mreza"
   ]
  },
  {
   "cell_type": "code",
   "execution_count": 17,
   "metadata": {},
   "outputs": [],
   "source": [
    "K.clear_session()"
   ]
  },
  {
   "cell_type": "markdown",
   "metadata": {},
   "source": [
    "# LSTM pomocu Word2Vec"
   ]
  },
  {
   "cell_type": "markdown",
   "metadata": {},
   "source": [
    "Word2Vec je drugi nacin gradjenja neuronske mreze kod problema sentiment analize.\n",
    "\n",
    "Umesto da treniramo embeding sloj (kroz neuronsku mrezu), mi mozemo prvo odvojeno da naucimo vektorsku reprezentaciju reci \n",
    "(iskoristimo word2vec) i onda je prosledimo embeding sloju.\n",
    "Ovaj nacin dozvoljava da koristimo bilo koji drugi pre-trenirani model za \"word embedding\" i takodje skratimo vreme treniranja neuronske mreze.\n",
    "\n",
    "\"Word Embedding\" je reprezentacija teksta gde reci sa slicnim znacenjem imaju slicnu reprezentaciju.\n",
    "Drugim recima, reci su predstavljene u koordinatnom sistemu gde su slicne reci(na osnovu ulaznog korpusa), smestene u slican deo prostora.\n",
    " \n",
    "Mi cemo koristiti gensim implementaciju za word2vec"
   ]
  },
  {
   "cell_type": "code",
   "execution_count": 9,
   "metadata": {},
   "outputs": [],
   "source": [
    "x_train_v2w, x_test_v2w, y_train_v2w, y_test_v2w = model_selection.train_test_split(x, y, test_size=0.33, random_state=42, stratify=y)"
   ]
  },
  {
   "cell_type": "code",
   "execution_count": 10,
   "metadata": {},
   "outputs": [],
   "source": [
    "v2w_tokenizer = Tokenizer() # bez max_features = 10 000\n",
    "v2w_tokenizer.fit_on_texts(x)"
   ]
  },
  {
   "cell_type": "code",
   "execution_count": 11,
   "metadata": {},
   "outputs": [],
   "source": [
    "x_trainV2W = np.array(v2w_tokenizer.texts_to_sequences(x_train_v2w))\n",
    "x_testV2W = np.array(v2w_tokenizer.texts_to_sequences(x_test_v2w))"
   ]
  },
  {
   "cell_type": "markdown",
   "metadata": {},
   "source": [
    "Kao pre, pravimo sekvence istih duzina.."
   ]
  },
  {
   "cell_type": "code",
   "execution_count": 12,
   "metadata": {},
   "outputs": [],
   "source": [
    "maxlen = 50\n",
    "\n",
    "x_trainV2W = pad_sequences(x_trainV2W, maxlen = maxlen)\n",
    "x_testV2W = pad_sequences(x_testV2W, maxlen = maxlen)"
   ]
  },
  {
   "cell_type": "code",
   "execution_count": 4,
   "metadata": {},
   "outputs": [],
   "source": [
    "# Pravimo model i postavljamo vrednosti za razlicite parametre\n",
    "Embedding_DIM = 32  # Word vector dimensionality\n",
    "min_word_count = 1  # Minimum word count\n",
    "num_workers = 4     # Number of parallel threads\n",
    "context = 5         # Context window size\n",
    "downsampling = 1e-3 # (0.001) Downsample setting for frequent words"
   ]
  },
  {
   "cell_type": "code",
   "execution_count": 32,
   "metadata": {},
   "outputs": [
    {
     "name": "stdout",
     "output_type": "stream",
     "text": [
      "Training model....\n"
     ]
    },
    {
     "name": "stderr",
     "output_type": "stream",
     "text": [
      "C:\\Users\\vladimir.lukovic\\AppData\\Roaming\\Python\\Python37\\site-packages\\gensim\\models\\base_any2vec.py:743: UserWarning: C extension not loaded, training will be slow. Install a C compiler and reinstall gensim for fast training.\n",
      "  \"C extension not loaded, training will be slow. \"\n"
     ]
    },
    {
     "name": "stdout",
     "output_type": "stream",
     "text": [
      "Vreme obucavanja je 19.58 minuta\n"
     ]
    }
   ],
   "source": [
    "start = time.time()\n",
    "\n",
    "print(\"Training model....\")\n",
    "model = word2vec.Word2Vec(x, size=Embedding_DIM, window=context,\n",
    "                          workers=num_workers, min_count=min_word_count, sample=downsampling)\n",
    "\n",
    "end = time.time()\n",
    "print('Vreme obucavanja je {0:.2f} minuta'.format((end - start)/60))"
   ]
  },
  {
   "cell_type": "code",
   "execution_count": 33,
   "metadata": {},
   "outputs": [
    {
     "data": {
      "text/plain": [
       "[('decent', 0.8882670402526855),\n",
       " ('amazing', 0.8830348253250122),\n",
       " ('excellent', 0.8727772235870361),\n",
       " ('fantastic', 0.8617746233940125),\n",
       " ('great', 0.8543925881385803),\n",
       " ('awesome', 0.8283018469810486),\n",
       " ('nice', 0.825795590877533),\n",
       " ('cool', 0.8183963298797607),\n",
       " ('ok', 0.8086968660354614),\n",
       " ('complaint', 0.7804789543151855)]"
      ]
     },
     "execution_count": 33,
     "metadata": {},
     "output_type": "execute_result"
    }
   ],
   "source": [
    "#  Istampace 10 najslicnijih reci datoj reci.\n",
    "model.wv.most_similar(\"good\")"
   ]
  },
  {
   "cell_type": "code",
   "execution_count": 35,
   "metadata": {},
   "outputs": [
    {
     "data": {
      "text/plain": [
       "'child'"
      ]
     },
     "execution_count": 35,
     "metadata": {},
     "output_type": "execute_result"
    }
   ],
   "source": [
    "# Istampace rec koja nije u kontekstu\n",
    "model.wv.doesnt_match(\"man woman dog child kitchen\".split())"
   ]
  },
  {
   "cell_type": "code",
   "execution_count": 36,
   "metadata": {},
   "outputs": [],
   "source": [
    "# Sacuvamo model u txt fajlu sa svim koeficijentima.\n",
    "filename = 'Amazon_Sentiment_embedding_word2vec.txt'\n",
    "model.wv.save_word2vec_format(filename)"
   ]
  },
  {
   "cell_type": "code",
   "execution_count": 23,
   "metadata": {},
   "outputs": [],
   "source": [
    "import os\n",
    "\n",
    "# pravimo recnik koji sadrzi reci i koeficijente dobijene pomocu word2vec za datu rec\n",
    "# pomocu tog recnika cemo napraviti matricu koju cemo proslediti neuronskoj mrezi...\n",
    "embeddings_index = {}\n",
    "f = open(os.path.join('', 'Amazon_Sentiment_embedding_word2vec.txt'), encoding= \"utf-8\")\n",
    "for line in f:\n",
    "    values = line.split()\n",
    "    word = values[0]\n",
    "    coefs = np.asarray(values[1:])\n",
    "    embeddings_index[word] = coefs\n",
    "f.close()"
   ]
  },
  {
   "cell_type": "code",
   "execution_count": 24,
   "metadata": {},
   "outputs": [
    {
     "name": "stdout",
     "output_type": "stream",
     "text": [
      "Nasli smo 11691 jedinstvenih reci\n"
     ]
    }
   ],
   "source": [
    "word_index = v2w_tokenizer.word_index\n",
    "print(f'Nasli smo {len(word_index)} jedinstvenih reci')"
   ]
  },
  {
   "cell_type": "code",
   "execution_count": 25,
   "metadata": {},
   "outputs": [],
   "source": [
    "# Pravimo matricu koju prosledjujemo neuronskoj mrezi\n",
    "# U svakoj vrsti se nalazi jedinstvena rec i koeficijenti dobijeni za nju pomocu word2vec\n",
    "num_words = len(word_index)+1\n",
    "embeddings_matrix = np.zeros((num_words, Embedding_DIM))\n",
    "\n",
    "for word,i in word_index.items():\n",
    "    if i>num_words:\n",
    "        continue\n",
    "    embedding_vector = embeddings_index.get(word)\n",
    "    if embedding_vector is not None:\n",
    "        # Reci koje nisu nadjene u embedding_index-u ce biti sve nule u mrezi..\n",
    "        embeddings_matrix[i] = embedding_vector"
   ]
  },
  {
   "cell_type": "code",
   "execution_count": 33,
   "metadata": {},
   "outputs": [],
   "source": [
    "model = Sequential()\n",
    "model.add(Embedding(num_words, Embedding_DIM, embeddings_initializer=Constant(embeddings_matrix),\n",
    "                    input_length=maxlen, trainable=False)) \n",
    "# postavljamo trainable=False da bismo sprecili da tezine budu azurirane tokom treninga\n",
    "model.add(LSTM(128))\n",
    "model.add(Dense(1, activation='sigmoid'))"
   ]
  },
  {
   "cell_type": "code",
   "execution_count": 34,
   "metadata": {},
   "outputs": [
    {
     "name": "stdout",
     "output_type": "stream",
     "text": [
      "_________________________________________________________________\n",
      "Layer (type)                 Output Shape              Param #   \n",
      "=================================================================\n",
      "embedding_1 (Embedding)      (None, 50, 32)            374144    \n",
      "_________________________________________________________________\n",
      "lstm_1 (LSTM)                (None, 128)               82432     \n",
      "_________________________________________________________________\n",
      "dense_1 (Dense)              (None, 1)                 129       \n",
      "=================================================================\n",
      "Total params: 456,705\n",
      "Trainable params: 82,561\n",
      "Non-trainable params: 374,144\n",
      "_________________________________________________________________\n"
     ]
    }
   ],
   "source": [
    "model.summary()"
   ]
  },
  {
   "cell_type": "markdown",
   "metadata": {},
   "source": [
    "Ukupno parametara = 456,705 , ali trainable parametara = 82,561. \n",
    "\n",
    "S obzirom da model koristi pre-treniran word2vec, ima dosta manji broj parametara za treniranje, zbog cega bi trebao brze da istrenira."
   ]
  },
  {
   "cell_type": "code",
   "execution_count": 35,
   "metadata": {},
   "outputs": [],
   "source": [
    "model.compile(optimizer='rmsprop', loss='binary_crossentropy', metrics=['acc', auroc])"
   ]
  },
  {
   "cell_type": "code",
   "execution_count": 29,
   "metadata": {},
   "outputs": [
    {
     "name": "stdout",
     "output_type": "stream",
     "text": [
      "Train on 18559 samples, validate on 4640 samples\n",
      "Epoch 1/10\n",
      "18559/18559 [==============================] - 18s 988us/step - loss: 0.2168 - acc: 0.9274 - auroc: 0.7820 - val_loss: 0.2052 - val_acc: 0.9330 - val_auroc: 0.8079\n",
      "Epoch 2/10\n",
      "18559/18559 [==============================] - 17s 938us/step - loss: 0.1978 - acc: 0.9336 - auroc: 0.8335 - val_loss: 0.2114 - val_acc: 0.9334 - val_auroc: 0.8140\n",
      "Epoch 3/10\n",
      "18559/18559 [==============================] - 17s 937us/step - loss: 0.1913 - acc: 0.9339 - auroc: 0.8474 - val_loss: 0.2007 - val_acc: 0.9323 - val_auroc: 0.8245\n",
      "Epoch 4/10\n",
      "18559/18559 [==============================] - 18s 970us/step - loss: 0.1861 - acc: 0.9343 - auroc: 0.8544 - val_loss: 0.1999 - val_acc: 0.9330 - val_auroc: 0.8264\n",
      "Epoch 5/10\n",
      "18559/18559 [==============================] - 18s 974us/step - loss: 0.1813 - acc: 0.9361 - auroc: 0.8661 - val_loss: 0.1986 - val_acc: 0.9334 - val_auroc: 0.8333\n",
      "Epoch 6/10\n",
      "18559/18559 [==============================] - 18s 984us/step - loss: 0.1767 - acc: 0.9369 - auroc: 0.8762 - val_loss: 0.1951 - val_acc: 0.9336 - val_auroc: 0.8328\n",
      "Epoch 7/10\n",
      "18559/18559 [==============================] - 19s 997us/step - loss: 0.1708 - acc: 0.9396 - auroc: 0.8846 - val_loss: 0.1946 - val_acc: 0.9353 - val_auroc: 0.8357\n",
      "Epoch 8/10\n",
      "18559/18559 [==============================] - 18s 974us/step - loss: 0.1654 - acc: 0.9407 - auroc: 0.8890 - val_loss: 0.1993 - val_acc: 0.9334 - val_auroc: 0.8360\n",
      "Epoch 9/10\n",
      "18559/18559 [==============================] - 18s 979us/step - loss: 0.1590 - acc: 0.9414 - auroc: 0.9057 - val_loss: 0.2109 - val_acc: 0.9287 - val_auroc: 0.8192\n",
      "Epoch 10/10\n",
      "18559/18559 [==============================] - 19s 1ms/step - loss: 0.1529 - acc: 0.9445 - auroc: 0.9135 - val_loss: 0.2109 - val_acc: 0.9205 - val_auroc: 0.8349\n",
      "Vreme obucavanja je 3.03 minuta\n"
     ]
    }
   ],
   "source": [
    "epoches = 10\n",
    "batch_size = 128\n",
    "\n",
    "start = time.time()\n",
    "\n",
    "history = model.fit(x_trainV2W, y_train_v2w, epochs=epoches, batch_size=batch_size, validation_split=0.2)\n",
    "\n",
    "end = time.time()\n",
    "print('Vreme obucavanja je {0:.2f} minuta'.format((end - start)/60))"
   ]
  },
  {
   "cell_type": "code",
   "execution_count": 30,
   "metadata": {},
   "outputs": [],
   "source": [
    "y_train_predicted = model.predict(x_trainV2W)\n",
    "y_test_predicted = model.predict(x_testV2W)"
   ]
  },
  {
   "cell_type": "code",
   "execution_count": 31,
   "metadata": {},
   "outputs": [
    {
     "name": "stdout",
     "output_type": "stream",
     "text": [
      "Arhitectur:LSTM(10 epoches) with Word2Vec algoritham, embedding_dim=32, optimizator=rmsprop.\n",
      "Results: \n",
      "\n",
      "Train acc: 93.97%, Test acc: 92.22%\n",
      "Train ROC: 90.4198170%, test ROC: 84.6128595%\n",
      "Confusion matrix(for threshold 0.5): \n",
      "Train set: \n",
      "[[  675   873]\n",
      " [  525 21126]]\n",
      "Test set: \n",
      "[[  239   524]\n",
      " [  365 10299]]\n"
     ]
    }
   ],
   "source": [
    "results_report(model, 'Arhitectur:LSTM(10 epoches) with Word2Vec algoritham, embedding_dim=32, optimizator=rmsprop.',\n",
    "               y_train_v2w, y_train_predicted, y_test_v2w, y_test_predicted)"
   ]
  },
  {
   "cell_type": "code",
   "execution_count": 59,
   "metadata": {},
   "outputs": [
    {
     "data": {
      "text/plain": [
       "<matplotlib.legend.Legend at 0x20f5e6a8f28>"
      ]
     },
     "execution_count": 59,
     "metadata": {},
     "output_type": "execute_result"
    },
    {
     "data": {
      "image/png": "[encoded data removed]",
      "text/plain": [
       "<Figure size 432x288 with 1 Axes>"
      ]
     },
     "metadata": {
      "needs_background": "light"
     },
     "output_type": "display_data"
    }
   ],
   "source": [
    "auroc = history.history['auroc']\n",
    "val_auroc = history.history['val_auroc']\n",
    "plt.plot(range(epoches), auroc, color='red', label='training')\n",
    "plt.plot(range(epoches), val_auroc, color='orange', label='validation')\n",
    "plt.title('Under the roc curve for training and validation:')\n",
    "plt.legend(loc='best')"
   ]
  },
  {
   "cell_type": "code",
   "execution_count": 60,
   "metadata": {},
   "outputs": [
    {
     "data": {
      "image/png": "[encoded data removed]",
      "text/plain": [
       "<Figure size 864x288 with 2 Axes>"
      ]
     },
     "metadata": {
      "needs_background": "light"
     },
     "output_type": "display_data"
    }
   ],
   "source": [
    "f,(ax1, ax2) = plt.subplots(1, 2, figsize=(12, 4), sharex=True)\n",
    "ax1.set_title('Accuracy ', fontdict={'fontsize':20})\n",
    "ax2.set_title('Loss function ', fontdict={'fontsize':20})\n",
    "\n",
    "acc = history.history['acc']\n",
    "val_acc = history.history['val_acc']\n",
    "ax1.plot(range(epoches), acc, color='red', label='training')\n",
    "ax1.plot(range(epoches), val_acc, color='orange', label='validation')\n",
    "ax1.legend(loc='best')\n",
    "ax1.set_xlabel('Number of epoches')\n",
    "\n",
    "loss = history.history['loss']\n",
    "val_loss = history.history['val_loss']\n",
    "ax2.plot(range(epoches), loss, color='red', label='training')\n",
    "ax2.plot(range(epoches), val_loss, color='orange', label='validation')\n",
    "ax2.legend(loc='best')\n",
    "ax2.set_xlabel('Number of epoches')\n",
    "\n",
    "plt.subplots_adjust(wspace=0.3)"
   ]
  },
  {
   "cell_type": "markdown",
   "metadata": {},
   "source": [
    "Vidimo da bi broje epoch-a trebao biti 6 ili 8 npr, ali mi bismo stavili 6 jer posle toga cini se da lagano staje sa ucenjem..."
   ]
  },
  {
   "cell_type": "code",
   "execution_count": 32,
   "metadata": {},
   "outputs": [],
   "source": [
    "K.clear_session()"
   ]
  },
  {
   "cell_type": "code",
   "execution_count": 36,
   "metadata": {},
   "outputs": [
    {
     "name": "stdout",
     "output_type": "stream",
     "text": [
      "Train on 18559 samples, validate on 4640 samples\n",
      "Epoch 1/6\n",
      "18559/18559 [==============================] - 18s 957us/step - loss: 0.2144 - acc: 0.9292 - auroc: 0.7942 - val_loss: 0.2138 - val_acc: 0.9308 - val_auroc: 0.8125\n",
      "Epoch 2/6\n",
      "18559/18559 [==============================] - 17s 901us/step - loss: 0.1965 - acc: 0.9326 - auroc: 0.8360 - val_loss: 0.1975 - val_acc: 0.9330 - val_auroc: 0.8269\n",
      "Epoch 3/6\n",
      "18559/18559 [==============================] - 17s 940us/step - loss: 0.1922 - acc: 0.9326 - auroc: 0.8476 - val_loss: 0.1963 - val_acc: 0.9356 - val_auroc: 0.8283\n",
      "Epoch 4/6\n",
      "18559/18559 [==============================] - 18s 976us/step - loss: 0.1855 - acc: 0.9351 - auroc: 0.8558 - val_loss: 0.1942 - val_acc: 0.9358 - val_auroc: 0.8340\n",
      "Epoch 5/6\n",
      "18559/18559 [==============================] - 18s 973us/step - loss: 0.1793 - acc: 0.9360 - auroc: 0.8714 - val_loss: 0.1946 - val_acc: 0.9353 - val_auroc: 0.8314\n",
      "Epoch 6/6\n",
      "18559/18559 [==============================] - 18s 974us/step - loss: 0.1748 - acc: 0.9379 - auroc: 0.8795 - val_loss: 0.2010 - val_acc: 0.9371 - val_auroc: 0.8297\n",
      "Vreme obucavanja je 1.78 minuta\n"
     ]
    }
   ],
   "source": [
    "epoches = 6\n",
    "batch_size = 128\n",
    "\n",
    "# treniranje mreze traje nesto duze\n",
    "start = time.time()\n",
    "\n",
    "history = model.fit(x_trainV2W, y_train_v2w, epochs=epoches, batch_size=batch_size, validation_split=0.2)\n",
    "\n",
    "end = time.time()\n",
    "print('Vreme obucavanja je {0:.2f} minuta'.format((end - start)/60))"
   ]
  },
  {
   "cell_type": "code",
   "execution_count": 37,
   "metadata": {},
   "outputs": [],
   "source": [
    "y_train_predicted = model.predict(x_trainV2W)\n",
    "y_test_predicted = model.predict(x_testV2W)"
   ]
  },
  {
   "cell_type": "code",
   "execution_count": 38,
   "metadata": {},
   "outputs": [
    {
     "name": "stdout",
     "output_type": "stream",
     "text": [
      "Arhitectur:LSTM(6 epoches) with Word2Vec algoritham, embedding_dim=32, optimizator=rmsprop.\n",
      "Results: \n",
      "\n",
      "Train acc: 93.99%, Test acc: 93.34%\n",
      "Train ROC: 87.5272678%, test ROC: 84.0464703%\n",
      "Confusion matrix(for threshold 0.5): \n",
      "Train set: \n",
      "[[  311  1237]\n",
      " [  158 21493]]\n",
      "Test set: \n",
      "[[  103   660]\n",
      " [  101 10563]]\n"
     ]
    }
   ],
   "source": [
    "results_report(model, 'Arhitectur:LSTM(6 epoches) with Word2Vec algoritham, embedding_dim=32, optimizator=rmsprop.',\n",
    "               y_train_v2w, y_train_predicted, y_test_v2w, y_test_predicted)"
   ]
  },
  {
   "cell_type": "markdown",
   "metadata": {},
   "source": [
    "test ROC = 84.04% nam je najbolja tacnost pri primenjivanju word2vec kod RNN-a "
   ]
  },
  {
   "cell_type": "markdown",
   "metadata": {},
   "source": [
    "Da probamo neke druge parametre da prosledimo word2vec-u, mozda budu bolji rezultati..."
   ]
  },
  {
   "cell_type": "code",
   "execution_count": 13,
   "metadata": {},
   "outputs": [],
   "source": [
    "# Creating the model and setting values for the various parameters\n",
    "Embedding_DIM = 32  # Word vector dimensionality\n",
    "min_word_count = 3  # Minimum word count\n",
    "num_workers = 4     # Number of parallel threads\n",
    "context = 4         # Context window size\n",
    "downsampling = 1e-3 # (0.001) Downsample setting for frequent words\n",
    "learning_rate = 1e-2"
   ]
  },
  {
   "cell_type": "code",
   "execution_count": 9,
   "metadata": {},
   "outputs": [
    {
     "name": "stdout",
     "output_type": "stream",
     "text": [
      "Training model....\n"
     ]
    },
    {
     "name": "stderr",
     "output_type": "stream",
     "text": [
      "C:\\Users\\vladimir.lukovic\\AppData\\Roaming\\Python\\Python37\\site-packages\\gensim\\models\\base_any2vec.py:743: UserWarning: C extension not loaded, training will be slow. Install a C compiler and reinstall gensim for fast training.\n",
      "  \"C extension not loaded, training will be slow. \"\n"
     ]
    },
    {
     "name": "stdout",
     "output_type": "stream",
     "text": [
      "Vreme obucavanja je 16.49 minuta\n"
     ]
    }
   ],
   "source": [
    "start = time.time()\n",
    "\n",
    "print(\"Training model....\")\n",
    "model = word2vec.Word2Vec(x, size=Embedding_DIM, window=context, alpha=learning_rate,\n",
    "                          workers=num_workers, min_count=min_word_count, sample=downsampling)\n",
    "\n",
    "end = time.time()\n",
    "print('Vreme obucavanja je {0:.2f} minuta'.format((end - start)/60))"
   ]
  },
  {
   "cell_type": "code",
   "execution_count": 15,
   "metadata": {},
   "outputs": [],
   "source": [
    "# Sacuvamo model u txt fajlu sa svim koeficijentima.\n",
    "filename = 'Amazon_Sentiment_embedding_word2vec_different_param.txt'\n",
    "model.wv.save_word2vec_format(filename)"
   ]
  },
  {
   "cell_type": "code",
   "execution_count": 11,
   "metadata": {},
   "outputs": [
    {
     "data": {
      "text/plain": [
       "[('excellent', 0.9865986704826355),\n",
       " ('nice', 0.9678224325180054),\n",
       " ('amazing', 0.96621173620224),\n",
       " ('overall', 0.96002197265625),\n",
       " ('well', 0.955249547958374),\n",
       " ('pretty', 0.9542925357818604),\n",
       " ('fast', 0.9542902708053589),\n",
       " ('resolution', 0.9537312984466553),\n",
       " ('decent', 0.9528672099113464),\n",
       " ('low', 0.9516057968139648)]"
      ]
     },
     "execution_count": 11,
     "metadata": {},
     "output_type": "execute_result"
    }
   ],
   "source": [
    "#  Istampace 10 najslicnijih reci datoj reci.\n",
    "model.wv.most_similar(\"good\")"
   ]
  },
  {
   "cell_type": "code",
   "execution_count": 16,
   "metadata": {},
   "outputs": [],
   "source": [
    "import os\n",
    "\n",
    "# pravimo recnik koji sadrzi reci i koeficijente dobijene pomocu word2vec za datu rec\n",
    "# pomocu tog recnika cemo napraviti matricu koju cemo proslediti neuronskoj mrezi...\n",
    "embeddings_index = {}\n",
    "f = open(os.path.join('', 'Amazon_Sentiment_embedding_word2vec_different_param.txt'), encoding= \"utf-8\")\n",
    "for line in f:\n",
    "    values = line.split()\n",
    "    word = values[0]\n",
    "    coefs = np.asarray(values[1:])\n",
    "    embeddings_index[word] = coefs\n",
    "f.close()"
   ]
  },
  {
   "cell_type": "code",
   "execution_count": 17,
   "metadata": {},
   "outputs": [
    {
     "name": "stdout",
     "output_type": "stream",
     "text": [
      "Nasli smo 11691 jedinstvenih reci\n"
     ]
    }
   ],
   "source": [
    "word_index = v2w_tokenizer.word_index\n",
    "print(f'Nasli smo {len(word_index)} jedinstvenih reci')"
   ]
  },
  {
   "cell_type": "code",
   "execution_count": 18,
   "metadata": {},
   "outputs": [],
   "source": [
    "# Pravimo matricu koju prosledjujemo neuronskoj mrezi\n",
    "# U svakoj vrsti se nalazi jedinstvena rec i koeficijenti dobijeni za nju pomocu word2vec\n",
    "num_words = len(word_index)+1\n",
    "embeddings_matrix = np.zeros((num_words, Embedding_DIM))\n",
    "\n",
    "for word,i in word_index.items():\n",
    "    if i>num_words:\n",
    "        continue\n",
    "    embedding_vector = embeddings_index.get(word)\n",
    "    if embedding_vector is not None:\n",
    "        # Reci koje nisu nadjene u embedding_index-u ce biti sve nule u mrezi..\n",
    "        embeddings_matrix[i] = embedding_vector"
   ]
  },
  {
   "cell_type": "code",
   "execution_count": 19,
   "metadata": {},
   "outputs": [
    {
     "name": "stdout",
     "output_type": "stream",
     "text": [
      "WARNING:tensorflow:From C:\\Users\\vladimir.lukovic\\AppData\\Roaming\\Python\\Python37\\site-packages\\tensorflow\\python\\framework\\op_def_library.py:263: colocate_with (from tensorflow.python.framework.ops) is deprecated and will be removed in a future version.\n",
      "Instructions for updating:\n",
      "Colocations handled automatically by placer.\n"
     ]
    }
   ],
   "source": [
    "model = Sequential()\n",
    "model.add(Embedding(num_words, Embedding_DIM, embeddings_initializer=Constant(embeddings_matrix),\n",
    "                    input_length=maxlen, trainable=False)) \n",
    "# Note that we set trainable=False to prevent the weights from being updated during training.\n",
    "model.add(LSTM(128))\n",
    "model.add(Dense(1, activation='sigmoid'))"
   ]
  },
  {
   "cell_type": "code",
   "execution_count": 20,
   "metadata": {},
   "outputs": [
    {
     "name": "stdout",
     "output_type": "stream",
     "text": [
      "_________________________________________________________________\n",
      "Layer (type)                 Output Shape              Param #   \n",
      "=================================================================\n",
      "embedding_1 (Embedding)      (None, 50, 32)            374144    \n",
      "_________________________________________________________________\n",
      "lstm_1 (LSTM)                (None, 128)               82432     \n",
      "_________________________________________________________________\n",
      "dense_1 (Dense)              (None, 1)                 129       \n",
      "=================================================================\n",
      "Total params: 456,705\n",
      "Trainable params: 82,561\n",
      "Non-trainable params: 374,144\n",
      "_________________________________________________________________\n"
     ]
    }
   ],
   "source": [
    "model.summary()"
   ]
  },
  {
   "cell_type": "code",
   "execution_count": 21,
   "metadata": {},
   "outputs": [
    {
     "name": "stdout",
     "output_type": "stream",
     "text": [
      "WARNING:tensorflow:From <ipython-input-8-ae00dc11758c>:2: py_func (from tensorflow.python.ops.script_ops) is deprecated and will be removed in a future version.\n",
      "Instructions for updating:\n",
      "tf.py_func is deprecated in TF V2. Instead, use\n",
      "    tf.py_function, which takes a python function which manipulates tf eager\n",
      "    tensors instead of numpy arrays. It's easy to convert a tf eager tensor to\n",
      "    an ndarray (just call tensor.numpy()) but having access to eager tensors\n",
      "    means `tf.py_function`s can use accelerators such as GPUs as well as\n",
      "    being differentiable using a gradient tape.\n",
      "    \n",
      "WARNING:tensorflow:From C:\\Users\\vladimir.lukovic\\AppData\\Roaming\\Python\\Python37\\site-packages\\tensorflow\\python\\ops\\math_ops.py:3066: to_int32 (from tensorflow.python.ops.math_ops) is deprecated and will be removed in a future version.\n",
      "Instructions for updating:\n",
      "Use tf.cast instead.\n",
      "Train on 18559 samples, validate on 4640 samples\n",
      "Epoch 1/6\n",
      "18559/18559 [==============================] - 19s 1ms/step - loss: 0.2369 - acc: 0.9286 - auroc: 0.7074 - val_loss: 0.2259 - val_acc: 0.9332 - val_auroc: 0.7385\n",
      "Epoch 2/6\n",
      "18559/18559 [==============================] - 18s 962us/step - loss: 0.2240 - acc: 0.9333 - auroc: 0.7480 - val_loss: 0.2219 - val_acc: 0.9332 - val_auroc: 0.7529\n",
      "Epoch 3/6\n",
      "18559/18559 [==============================] - 16s 877us/step - loss: 0.2200 - acc: 0.9334 - auroc: 0.7598 - val_loss: 0.2213 - val_acc: 0.9332 - val_auroc: 0.7552\n",
      "Epoch 4/6\n",
      "18559/18559 [==============================] - 17s 926us/step - loss: 0.2165 - acc: 0.9335 - auroc: 0.7728 - val_loss: 0.2242 - val_acc: 0.9332 - val_auroc: 0.7559\n",
      "Epoch 5/6\n",
      "18559/18559 [==============================] - 17s 931us/step - loss: 0.2154 - acc: 0.9331 - auroc: 0.7758 - val_loss: 0.2198 - val_acc: 0.9330 - val_auroc: 0.7693\n",
      "Epoch 6/6\n",
      "18559/18559 [==============================] - 17s 937us/step - loss: 0.2124 - acc: 0.9330 - auroc: 0.7826 - val_loss: 0.2175 - val_acc: 0.9328 - val_auroc: 0.7736\n",
      "Vreme obucavanja je 1.76 minuta\n"
     ]
    }
   ],
   "source": [
    "model.compile(optimizer='rmsprop', loss='binary_crossentropy', metrics=['acc', auroc])\n",
    "\n",
    "epoches = 6\n",
    "batch_size = 128\n",
    "\n",
    "# treniranje mreze traje nesto duze\n",
    "start = time.time()\n",
    "\n",
    "history = model.fit(x_trainV2W, y_train_v2w, epochs=epoches, batch_size=batch_size, validation_split=0.2)\n",
    "\n",
    "end = time.time()\n",
    "print('Vreme obucavanja je {0:.2f} minuta'.format((end - start)/60))"
   ]
  },
  {
   "cell_type": "code",
   "execution_count": 22,
   "metadata": {},
   "outputs": [],
   "source": [
    "y_train_predicted = model.predict(x_trainV2W)\n",
    "y_test_predicted = model.predict(x_testV2W)"
   ]
  },
  {
   "cell_type": "code",
   "execution_count": 23,
   "metadata": {},
   "outputs": [
    {
     "name": "stdout",
     "output_type": "stream",
     "text": [
      "Arhitectur:LSTM(6 epoches) with Word2Vec algoritham, embedding_dim=32, optimizator=rmsprop.\n",
      "Results: \n",
      "\n",
      "Train acc: 93.34%, Test acc: 93.29%\n",
      "Train ROC: 79.0802148%, test ROC: 77.7816423%\n",
      "Confusion matrix(for threshold 0.5): \n",
      "Train set: \n",
      "[[   23  1525]\n",
      " [   20 21631]]\n",
      "Test set: \n",
      "[[    8   755]\n",
      " [   12 10652]]\n"
     ]
    }
   ],
   "source": [
    "results_report(model, 'Arhitectur:LSTM(6 epoches) with Word2Vec algoritham, embedding_dim=32, optimizator=rmsprop.',\n",
    "               y_train_v2w, y_train_predicted, y_test_v2w, y_test_predicted)"
   ]
  },
  {
   "cell_type": "code",
   "execution_count": 24,
   "metadata": {},
   "outputs": [
    {
     "data": {
      "text/plain": [
       "<matplotlib.legend.Legend at 0x26444c13b00>"
      ]
     },
     "execution_count": 24,
     "metadata": {},
     "output_type": "execute_result"
    },
    {
     "data": {
      "image/png": "[encoded data removed]",
      "text/plain": [
       "<Figure size 432x288 with 1 Axes>"
      ]
     },
     "metadata": {
      "needs_background": "light"
     },
     "output_type": "display_data"
    }
   ],
   "source": [
    "auroc = history.history['auroc']\n",
    "val_auroc = history.history['val_auroc']\n",
    "plt.plot(range(epoches), auroc, color='red', label='training')\n",
    "plt.plot(range(epoches), val_auroc, color='orange', label='validation')\n",
    "plt.title('Under the roc curve for training and validation:')\n",
    "plt.legend(loc='best')"
   ]
  },
  {
   "cell_type": "markdown",
   "metadata": {},
   "source": [
    "Nije se nesto pokazala ova arhitektura word2vec-a. Bolje rezultate nam daje prethodna arhitektura.. "
   ]
  },
  {
   "cell_type": "code",
   "execution_count": 21,
   "metadata": {},
   "outputs": [],
   "source": [
    "K.clear_session()"
   ]
  }
 ],
 "metadata": {
  "kernelspec": {
   "display_name": "Python 3",
   "language": "python",
   "name": "python3"
  },
  "language_info": {
   "codemirror_mode": {
    "name": "ipython",
    "version": 3
   },
   "file_extension": ".py",
   "mimetype": "text/x-python",
   "name": "python",
   "nbconvert_exporter": "python",
   "pygments_lexer": "ipython3",
   "version": "3.7.2"
  }
 },
 "nbformat": 4,
 "nbformat_minor": 2
}
